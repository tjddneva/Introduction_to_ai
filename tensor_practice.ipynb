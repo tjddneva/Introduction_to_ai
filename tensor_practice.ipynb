{
 "cells": [
  {
   "cell_type": "code",
   "execution_count": 1,
   "metadata": {},
   "outputs": [],
   "source": [
    "import numpy as np\n",
    "import torch\n",
    "import torch.nn as nn"
   ]
  },
  {
   "cell_type": "code",
   "execution_count": 2,
   "metadata": {},
   "outputs": [],
   "source": [
    "x_train = torch.FloatTensor([[73, 80, 75],\n",
    "                             [93, 88, 93],\n",
    "                             [89, 91, 90],\n",
    "                             [96, 98, 100],\n",
    "                             [73, 66, 70]])"
   ]
  },
  {
   "cell_type": "code",
   "execution_count": 60,
   "metadata": {},
   "outputs": [
    {
     "data": {
      "text/plain": [
       "torch.Size([15])"
      ]
     },
     "execution_count": 60,
     "metadata": {},
     "output_type": "execute_result"
    }
   ],
   "source": [
    "data = x_train.shape[0]\n",
    "flatten_x = x_train.view(-1)\n",
    "flatten_x.shape"
   ]
  },
  {
   "cell_type": "code",
   "execution_count": 61,
   "metadata": {},
   "outputs": [
    {
     "data": {
      "text/plain": [
       "tensor([ 73.,  80.,  75.,  93.,  88.,  93.,  89.,  91.,  90.,  96.,  98., 100.,\n",
       "         73.,  66.,  70.])"
      ]
     },
     "execution_count": 61,
     "metadata": {},
     "output_type": "execute_result"
    }
   ],
   "source": [
    "flatten_x"
   ]
  },
  {
   "cell_type": "code",
   "execution_count": 75,
   "metadata": {},
   "outputs": [
    {
     "data": {
      "text/plain": [
       "[Parameter containing:\n",
       " tensor([[ 0.1849,  0.2556,  0.2349, -0.0975,  0.1244, -0.2252, -0.1070,  0.0292,\n",
       "           0.1552, -0.0328,  0.1897, -0.0357, -0.1769,  0.1917,  0.1519],\n",
       "         [ 0.1528,  0.2228,  0.0263,  0.2283,  0.1727,  0.1778,  0.1730, -0.0736,\n",
       "          -0.2232,  0.0311,  0.1302,  0.2567,  0.0767,  0.1478,  0.2060]],\n",
       "        requires_grad=True),\n",
       " Parameter containing:\n",
       " tensor([-0.1350,  0.0913], requires_grad=True)]"
      ]
     },
     "execution_count": 75,
     "metadata": {},
     "output_type": "execute_result"
    }
   ],
   "source": [
    "model = nn.Linear(15,2)\n",
    "list(model.parameters())"
   ]
  },
  {
   "cell_type": "code",
   "execution_count": 76,
   "metadata": {},
   "outputs": [
    {
     "data": {
      "text/plain": [
       "tensor([ 61.7183, 143.8196], grad_fn=<AddBackward0>)"
      ]
     },
     "execution_count": 76,
     "metadata": {},
     "output_type": "execute_result"
    }
   ],
   "source": [
    "prediction = model(flatten_x)\n",
    "prediction"
   ]
  },
  {
   "cell_type": "code",
   "execution_count": 113,
   "metadata": {},
   "outputs": [
    {
     "data": {
      "text/plain": [
       "tensor([[[[ 0.8270, -0.9225, -0.6259],\n",
       "          [-1.1492,  0.9020, -2.6973],\n",
       "          [ 0.3584, -0.2506,  1.0519],\n",
       "          ...,\n",
       "          [-0.4080,  1.3029,  1.5033],\n",
       "          [-0.7846,  1.1604, -0.7440],\n",
       "          [ 0.4381, -0.3900, -1.3335]],\n",
       "\n",
       "         [[ 0.0636, -0.5575, -1.0513],\n",
       "          [ 0.1266, -0.0658,  0.9208],\n",
       "          [ 0.5893, -0.7400,  0.1411],\n",
       "          ...,\n",
       "          [-0.9710,  0.4662,  1.1640],\n",
       "          [ 1.3887,  0.1332, -2.0982],\n",
       "          [ 0.5184,  2.0252,  0.9995]],\n",
       "\n",
       "         [[-0.4679,  2.3189,  1.8993],\n",
       "          [-0.4614,  1.6666,  0.0228],\n",
       "          [-0.2538,  1.5449, -0.2980],\n",
       "          ...,\n",
       "          [-0.9573,  0.0053, -0.7134],\n",
       "          [-1.5544,  1.1704, -1.2370],\n",
       "          [-0.7868,  0.3142, -1.1447]],\n",
       "\n",
       "         ...,\n",
       "\n",
       "         [[-0.9054,  0.4867,  1.9183],\n",
       "          [-0.1287, -1.5171, -0.3142],\n",
       "          [-1.2954, -3.0803,  0.6147],\n",
       "          ...,\n",
       "          [ 0.8582, -0.5489, -2.5474],\n",
       "          [-0.1210,  0.0094, -1.0962],\n",
       "          [ 1.3497,  0.0189, -0.5917]],\n",
       "\n",
       "         [[ 0.5690,  0.5916,  0.9098],\n",
       "          [ 2.0112,  0.9311,  0.8480],\n",
       "          [-0.9179, -1.3511, -1.2457],\n",
       "          ...,\n",
       "          [-1.9271,  0.4566, -1.2541],\n",
       "          [ 0.3591,  0.4269, -0.1274],\n",
       "          [-0.6689, -1.1223,  0.6173]],\n",
       "\n",
       "         [[ 1.6538, -0.3873,  0.1061],\n",
       "          [ 0.3197, -0.8507, -2.4209],\n",
       "          [-0.3844,  0.1652,  0.9501],\n",
       "          ...,\n",
       "          [ 1.4637, -1.2000, -1.4925],\n",
       "          [-0.4705,  0.0975,  0.2299],\n",
       "          [-0.2232, -0.5720,  0.3509]]],\n",
       "\n",
       "\n",
       "        [[[-0.1046,  1.6861,  0.6156],\n",
       "          [ 1.4507,  0.5298, -0.8913],\n",
       "          [-0.8419,  0.2895, -0.1527],\n",
       "          ...,\n",
       "          [ 1.1882,  0.4567,  0.4655],\n",
       "          [-0.9291, -1.5686, -0.5666],\n",
       "          [ 1.5128, -0.2551, -1.2523]],\n",
       "\n",
       "         [[-0.9645, -0.6258, -0.5340],\n",
       "          [ 0.2167,  1.4570, -0.6144],\n",
       "          [-1.9932,  1.1460,  0.9680],\n",
       "          ...,\n",
       "          [ 1.2119, -0.3301,  0.2483],\n",
       "          [ 1.3124,  0.6742,  1.9212],\n",
       "          [ 0.7470, -0.7824,  1.4524]],\n",
       "\n",
       "         [[ 0.7710, -0.8196,  0.4848],\n",
       "          [ 0.1710, -0.8692,  1.1100],\n",
       "          [ 0.8215, -0.4203,  0.5024],\n",
       "          ...,\n",
       "          [ 1.9802,  0.3483,  0.7298],\n",
       "          [ 2.2390, -1.9433,  0.5633],\n",
       "          [-1.7752,  0.2797,  0.1125]],\n",
       "\n",
       "         ...,\n",
       "\n",
       "         [[ 2.1374, -1.5968, -0.6203],\n",
       "          [ 0.4368,  0.3241, -0.5960],\n",
       "          [-1.2086, -1.2803,  0.6740],\n",
       "          ...,\n",
       "          [ 0.3856, -0.1312, -1.2734],\n",
       "          [-0.3830, -0.5559, -0.5294],\n",
       "          [ 1.7272,  0.5975,  0.3098]],\n",
       "\n",
       "         [[-2.0673, -0.6371,  0.0880],\n",
       "          [-1.0115, -0.9266, -0.7464],\n",
       "          [ 1.1707, -0.5074,  0.6482],\n",
       "          ...,\n",
       "          [-0.4054,  1.2513, -0.8014],\n",
       "          [-0.9135,  0.9370, -0.4371],\n",
       "          [ 1.0113, -0.1935, -0.4996]],\n",
       "\n",
       "         [[-2.0624,  0.1616,  1.6618],\n",
       "          [ 1.6712, -0.3675,  0.2122],\n",
       "          [-2.1243, -0.2298, -1.6529],\n",
       "          ...,\n",
       "          [ 0.0345,  0.4933, -0.6393],\n",
       "          [-0.1243, -0.5830, -0.0744],\n",
       "          [ 0.2154,  1.4815,  0.1161]]]])"
      ]
     },
     "execution_count": 113,
     "metadata": {},
     "output_type": "execute_result"
    }
   ],
   "source": [
    "input = torch.randn(2,32,32,3)\n",
    "data = input.shape[0]\n",
    "input"
   ]
  },
  {
   "cell_type": "code",
   "execution_count": 114,
   "metadata": {},
   "outputs": [
    {
     "data": {
      "text/plain": [
       "tensor([[ 0.8270, -0.9225, -0.6259,  ..., -0.2232, -0.5720,  0.3509],\n",
       "        [-0.1046,  1.6861,  0.6156,  ...,  0.2154,  1.4815,  0.1161]])"
      ]
     },
     "execution_count": 114,
     "metadata": {},
     "output_type": "execute_result"
    }
   ],
   "source": [
    "fla = input.view(data, -1)\n",
    "fla"
   ]
  },
  {
   "cell_type": "code",
   "execution_count": 115,
   "metadata": {},
   "outputs": [
    {
     "data": {
      "text/plain": [
       "torch.Size([2, 3072])"
      ]
     },
     "execution_count": 115,
     "metadata": {},
     "output_type": "execute_result"
    }
   ],
   "source": [
    "fla.shape"
   ]
  },
  {
   "cell_type": "code",
   "execution_count": 116,
   "metadata": {
    "scrolled": false
   },
   "outputs": [
    {
     "data": {
      "text/plain": [
       "[Parameter containing:\n",
       " tensor([[-0.0052,  0.0174, -0.0051,  ...,  0.0074,  0.0007,  0.0034],\n",
       "         [-0.0162,  0.0086, -0.0020,  ..., -0.0020,  0.0029,  0.0117],\n",
       "         [-0.0140,  0.0080, -0.0113,  ...,  0.0118,  0.0102, -0.0086],\n",
       "         ...,\n",
       "         [ 0.0053, -0.0029,  0.0002,  ..., -0.0065, -0.0097, -0.0046],\n",
       "         [-0.0075,  0.0176, -0.0059,  ..., -0.0058,  0.0097,  0.0017],\n",
       "         [-0.0112,  0.0079, -0.0034,  ...,  0.0133,  0.0174,  0.0090]],\n",
       "        requires_grad=True),\n",
       " Parameter containing:\n",
       " tensor([ 0.0110, -0.0028, -0.0048,  0.0164, -0.0148, -0.0012,  0.0084,  0.0114,\n",
       "          0.0068, -0.0088], requires_grad=True)]"
      ]
     },
     "execution_count": 116,
     "metadata": {},
     "output_type": "execute_result"
    }
   ],
   "source": [
    "model2 = nn.Linear(3072,10)\n",
    "list(model2.parameters())"
   ]
  },
  {
   "cell_type": "code",
   "execution_count": 117,
   "metadata": {
    "scrolled": false
   },
   "outputs": [],
   "source": [
    "m = nn.Sequential(\n",
    "    nn.Linear(3072,10),\n",
    "    nn.ReLU()\n",
    ")"
   ]
  },
  {
   "cell_type": "code",
   "execution_count": 118,
   "metadata": {},
   "outputs": [
    {
     "data": {
      "text/plain": [
       "tensor([[0.0000, 0.2101, 1.2009, 0.0000, 0.0000, 0.1097, 0.0000, 0.6524, 0.0000,\n",
       "         0.0000],\n",
       "        [0.0672, 0.8429, 0.2733, 0.2312, 0.0000, 0.0181, 0.0000, 0.1009, 0.1451,\n",
       "         0.2345]], grad_fn=<ReluBackward0>)"
      ]
     },
     "execution_count": 118,
     "metadata": {},
     "output_type": "execute_result"
    }
   ],
   "source": [
    "output3 = m(fla)\n",
    "output3"
   ]
  }
 ],
 "metadata": {
  "kernelspec": {
   "display_name": "Python 3",
   "language": "python",
   "name": "python3"
  },
  "language_info": {
   "codemirror_mode": {
    "name": "ipython",
    "version": 3
   },
   "file_extension": ".py",
   "mimetype": "text/x-python",
   "name": "python",
   "nbconvert_exporter": "python",
   "pygments_lexer": "ipython3",
   "version": "3.8.5"
  }
 },
 "nbformat": 4,
 "nbformat_minor": 4
}
