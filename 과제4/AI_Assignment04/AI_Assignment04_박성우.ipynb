{
 "cells": [
  {
   "cell_type": "code",
   "execution_count": null,
   "metadata": {
    "colab": {
     "base_uri": "https://localhost:8080/"
    },
    "id": "vfNfHIKA7HyO",
    "outputId": "ca15a7ae-3270-4164-c1c3-cac374a5b24b"
   },
   "outputs": [
    {
     "name": "stdout",
     "output_type": "stream",
     "text": [
      "Requirement already satisfied: IPython in /usr/local/lib/python3.7/dist-packages (5.5.0)\n",
      "Requirement already satisfied: pexpect in /usr/local/lib/python3.7/dist-packages (from IPython) (4.8.0)\n",
      "Requirement already satisfied: decorator in /usr/local/lib/python3.7/dist-packages (from IPython) (4.4.2)\n",
      "Requirement already satisfied: pygments in /usr/local/lib/python3.7/dist-packages (from IPython) (2.6.1)\n",
      "Requirement already satisfied: simplegeneric>0.8 in /usr/local/lib/python3.7/dist-packages (from IPython) (0.8.1)\n",
      "Requirement already satisfied: traitlets>=4.2 in /usr/local/lib/python3.7/dist-packages (from IPython) (5.1.1)\n",
      "Requirement already satisfied: setuptools>=18.5 in /usr/local/lib/python3.7/dist-packages (from IPython) (57.4.0)\n",
      "Requirement already satisfied: prompt-toolkit<2.0.0,>=1.0.4 in /usr/local/lib/python3.7/dist-packages (from IPython) (1.0.18)\n",
      "Requirement already satisfied: pickleshare in /usr/local/lib/python3.7/dist-packages (from IPython) (0.7.5)\n",
      "Requirement already satisfied: wcwidth in /usr/local/lib/python3.7/dist-packages (from prompt-toolkit<2.0.0,>=1.0.4->IPython) (0.2.5)\n",
      "Requirement already satisfied: six>=1.9.0 in /usr/local/lib/python3.7/dist-packages (from prompt-toolkit<2.0.0,>=1.0.4->IPython) (1.15.0)\n",
      "Requirement already satisfied: ptyprocess>=0.5 in /usr/local/lib/python3.7/dist-packages (from pexpect->IPython) (0.7.0)\n"
     ]
    }
   ],
   "source": [
    "!pip install IPython "
   ]
  },
  {
   "cell_type": "markdown",
   "metadata": {
    "id": "GnIGP3XoPZFa"
   },
   "source": [
    "#### colab에서 실행시 다음 주석문을 풀어 실행시킨다."
   ]
  },
  {
   "cell_type": "code",
   "execution_count": null,
   "metadata": {
    "colab": {
     "base_uri": "https://localhost:8080/"
    },
    "id": "XbPDbSM87LbC",
    "outputId": "dff0e2f1-a2be-43d0-8bae-870189e68c1d"
   },
   "outputs": [
    {
     "name": "stdout",
     "output_type": "stream",
     "text": [
      "Mounted at /gdrive\n"
     ]
    }
   ],
   "source": [
    "\n",
    "from google.colab import drive\n",
    "drive.mount('/gdrive',force_remount=True)\n"
   ]
  },
  {
   "cell_type": "code",
   "execution_count": null,
   "metadata": {
    "id": "HAlPWuWzDNWy"
   },
   "outputs": [],
   "source": [
    "import numpy as np\n",
    "import matplotlib.pyplot as plt\n",
    "import torch\n",
    "from torch.utils.data import Dataset, DataLoader\n",
    "import torch.nn as nn\n",
    "import torch.nn.functional as F\n",
    "from torchvision import transforms,datasets\n",
    "\n",
    "from sklearn.model_selection import train_test_split\n",
    "from copy import deepcopy\n",
    "from IPython.display import Image"
   ]
  },
  {
   "cell_type": "code",
   "execution_count": null,
   "metadata": {
    "colab": {
     "base_uri": "https://localhost:8080/"
    },
    "executionInfo": {
     "elapsed": 699,
     "status": "ok",
     "timestamp": 1640188968813,
     "user": {
      "displayName": "박성우",
      "photoUrl": "https://lh3.googleusercontent.com/a/default-user=s64",
      "userId": "13078480530197322902"
     },
     "user_tz": -540
    },
    "id": "NhjG0LjaDQlc",
    "outputId": "59ca2c91-4060-4bdc-d01c-896fbbe74de4"
   },
   "outputs": [
    {
     "name": "stdout",
     "output_type": "stream",
     "text": [
      "device_check: cuda\n"
     ]
    }
   ],
   "source": [
    "device=torch.device(\"cuda\" if torch.cuda.is_available() else \"cpu\")\n",
    "\n",
    "print('device_check:',device)"
   ]
  },
  {
   "cell_type": "markdown",
   "metadata": {
    "id": "9-KTU3jv4za0"
   },
   "source": [
    "# Load CIFAR 10 Dataset"
   ]
  },
  {
   "cell_type": "code",
   "execution_count": null,
   "metadata": {
    "colab": {
     "base_uri": "https://localhost:8080/",
     "height": 104,
     "referenced_widgets": [
      "125ec67b432d473abd167dc0a68a8cdd",
      "986d81550e0d4eab8798dbaed03199f6",
      "4e9aa570abf24cf8a21da8e13a37f12b",
      "0618384306cf4529a0f77bca33f2d4c6",
      "1a017568763a44fdb8e4b5fba5002c8e",
      "32d48535776048e4ab95e2ea3c06f9cf",
      "f0687f4eb72e4235b338ea272ec09706",
      "9c640e5c724e49f9b0df10258d252eb9",
      "fd9dfe9a6ab24c95819b6984f184612b",
      "246bbd1bcd0942d2bfe5794ed41d3b0e",
      "16d36ed089444ec998a4f569d0f9b306"
     ]
    },
    "executionInfo": {
     "elapsed": 7360,
     "status": "ok",
     "timestamp": 1640188985562,
     "user": {
      "displayName": "박성우",
      "photoUrl": "https://lh3.googleusercontent.com/a/default-user=s64",
      "userId": "13078480530197322902"
     },
     "user_tz": -540
    },
    "id": "Zt_T74ZbDVho",
    "outputId": "22bd1353-ca2c-4864-a313-488e6dd64bf4"
   },
   "outputs": [
    {
     "name": "stdout",
     "output_type": "stream",
     "text": [
      "Downloading https://www.cs.toronto.edu/~kriz/cifar-10-python.tar.gz to ./data/cifar-10-python.tar.gz\n"
     ]
    },
    {
     "data": {
      "application/vnd.jupyter.widget-view+json": {
       "model_id": "125ec67b432d473abd167dc0a68a8cdd",
       "version_major": 2,
       "version_minor": 0
      },
      "text/plain": [
       "  0%|          | 0/170498071 [00:00<?, ?it/s]"
      ]
     },
     "metadata": {},
     "output_type": "display_data"
    },
    {
     "name": "stdout",
     "output_type": "stream",
     "text": [
      "Extracting ./data/cifar-10-python.tar.gz to ./data\n",
      "Files already downloaded and verified\n"
     ]
    }
   ],
   "source": [
    "trainset=datasets.CIFAR10(root = './data', train = True, download = True)\n",
    "testset = datasets.CIFAR10(root = './data', train = False, download = True)\n",
    "\n",
    "X_data, Y_data = trainset.data, np.array(trainset.targets)"
   ]
  },
  {
   "cell_type": "markdown",
   "metadata": {
    "id": "tCBEZ1K3i-Ns"
   },
   "source": [
    "#### sample the dataset"
   ]
  },
  {
   "cell_type": "code",
   "execution_count": null,
   "metadata": {
    "colab": {
     "base_uri": "https://localhost:8080/"
    },
    "executionInfo": {
     "elapsed": 311,
     "status": "ok",
     "timestamp": 1640189017030,
     "user": {
      "displayName": "박성우",
      "photoUrl": "https://lh3.googleusercontent.com/a/default-user=s64",
      "userId": "13078480530197322902"
     },
     "user_tz": -540
    },
    "id": "rvgseKYMDXXb",
    "outputId": "fafe6c99-1713-4fc4-8e26-3b6fad9ca4ca"
   },
   "outputs": [
    {
     "name": "stdout",
     "output_type": "stream",
     "text": [
      "----Train data info----\n",
      "(16000, 32, 32, 3)\n",
      "(16000,)\n",
      "----Validation data info----\n",
      "(4000, 32, 32, 3)\n",
      "(4000,)\n",
      "----Test data info----\n",
      "(4000, 32, 32, 3)\n",
      "(4000,)\n"
     ]
    }
   ],
   "source": [
    "shuffle_mask=np.arange(X_data.shape[0])\n",
    "np.random.shuffle(shuffle_mask)\n",
    "\n",
    "X_data= X_data[shuffle_mask]\n",
    "Y_data= Y_data[shuffle_mask]\n",
    "\n",
    "X_train = X_data[:20000]\n",
    "X_test = X_data[20000:24000]\n",
    "Y_train = Y_data[:20000]\n",
    "Y_test = Y_data[20000:24000]\n",
    "\n",
    "\n",
    "X_train, X_valid, Y_train, Y_valid = train_test_split(X_train, Y_train, test_size=0.2)\n",
    "\n",
    "print('----Train data info----')\n",
    "print(X_train.shape)\n",
    "print(Y_train.shape)\n",
    "\n",
    "print('----Validation data info----')\n",
    "print(X_valid.shape)\n",
    "print(Y_valid.shape)\n",
    "\n",
    "print('----Test data info----')\n",
    "print(X_test.shape)\n",
    "print(Y_test.shape)"
   ]
  },
  {
   "cell_type": "markdown",
   "metadata": {
    "id": "3TqPpjf9i-Nt"
   },
   "source": [
    "####  image print"
   ]
  },
  {
   "cell_type": "code",
   "execution_count": null,
   "metadata": {
    "colab": {
     "base_uri": "https://localhost:8080/",
     "height": 338
    },
    "executionInfo": {
     "elapsed": 1684,
     "status": "ok",
     "timestamp": 1640189022487,
     "user": {
      "displayName": "박성우",
      "photoUrl": "https://lh3.googleusercontent.com/a/default-user=s64",
      "userId": "13078480530197322902"
     },
     "user_tz": -540
    },
    "id": "IQ7EIYDHGCPh",
    "outputId": "e385e0f8-253e-49ed-d33b-7033291f8242"
   },
   "outputs": [
    {
     "data": {
      "image/png": "[encoded data removed]",
      "text/plain": [
       "<Figure size 432x288 with 20 Axes>"
      ]
     },
     "metadata": {},
     "output_type": "display_data"
    }
   ],
   "source": [
    "### cifar10 이미지 출력 ###\n",
    "\n",
    "sample_X = X_train[:20]\n",
    "sample_Y = Y_train[:20]\n",
    "\n",
    "fig = plt.figure()\n",
    "fig.subplots_adjust(left=0, bottom=0, right=1, top=1, wspace=1, hspace=1)\n",
    "for i in range(20):\n",
    "    subplot = fig.add_subplot(4, 5, i+1)\n",
    "    subplot.set_xticks([])\n",
    "    subplot.set_yticks([])\n",
    "    subplot.set_title('class %d'%sample_Y[i])\n",
    "    subplot.imshow(sample_X[i], cmap=plt.cm.gray_r)\n",
    "plt.show()"
   ]
  },
  {
   "cell_type": "code",
   "execution_count": null,
   "metadata": {
    "id": "wZ1XHH36Ka8d"
   },
   "outputs": [],
   "source": [
    "class Custom_Dataset(Dataset):\n",
    "    def __init__(self, X, y):\n",
    "        self.X=np.transpose(X/255.0,(0,3,1,2))\n",
    "        self.y=y\n",
    "\n",
    "    def __len__(self):\n",
    "        \n",
    "        result=len(self.X)\n",
    "    \n",
    "        return result\n",
    "    \n",
    "    def __getitem__(self, idx):\n",
    "        \n",
    "        result_X=self.X[idx]\n",
    "        result_y=self.y[idx]\n",
    "        return result_X,result_y"
   ]
  },
  {
   "cell_type": "markdown",
   "metadata": {
    "id": "9ugKn24g7HyY"
   },
   "source": [
    "#### [문제 01] Flatten Function(Flatten Layer)\n",
    "\n",
    "Flatten layer는 CNN의 데이터 타입을 Fully Connected Neural Network의 형태로 변경하는 layer이다.\n",
    "flatten 함수를 통해 flatten layer를 구현하시오.\n",
    "(바꾸는 방법은 다양함.) (10점)"
   ]
  },
  {
   "cell_type": "markdown",
   "metadata": {
    "id": "Gz1O6aaZ7HyZ"
   },
   "source": [
    "![nn](img/flatten.png)"
   ]
  },
  {
   "cell_type": "code",
   "execution_count": null,
   "metadata": {
    "id": "gbbTpQee7HyZ"
   },
   "outputs": [],
   "source": [
    "\n",
    "def flatten(x):\n",
    "    data=x.shape[0]\n",
    "    ###################### Write Your Code Here ###################\n",
    "    flatten_x = x.view(data, -1)\n",
    "    ###############################################################\n",
    "    return flatten_x\n"
   ]
  },
  {
   "cell_type": "markdown",
   "metadata": {
    "id": "DJaslbGb7HyZ"
   },
   "source": [
    "#### [문제 02] Multi Layer Perceptron(MLP)\n",
    "전체 layer의 개수가 5개 이상 10개 이하인  Multi-layer Perceptron(MLP)를 만드시오. MLP model은 test dataset에 대해 40%     이상의 Test accuracy를 가져야 한다.\n",
    "\n",
    "\n",
    "(단 activation function은 self.activation_func을 사용해야 한다.) \n",
    "\n",
    "(** HINT: pytorch의 nn.Sequential을 찾아보고 사용해볼것.) (25점)"
   ]
  },
  {
   "cell_type": "code",
   "execution_count": null,
   "metadata": {
    "id": "rU04cqIDi-Nw"
   },
   "outputs": [],
   "source": [
    "\n",
    "class MLP(nn.Module):\n",
    "    def __init__(self,input_size,active_func,output_size):\n",
    "        super(MLP,self).__init__()\n",
    "        \n",
    "        self.activation_func=active_func\n",
    "        ######################## Write your Code Here ########################\n",
    "        self.seq = nn.Sequential(\n",
    "            nn.Linear(input_size, input_size),\n",
    "            self.activation_func,\n",
    "            nn.Linear(input_size, 100),\n",
    "            self.activation_func,\n",
    "            nn.Linear(100, 100),\n",
    "            self.activation_func,\n",
    "            nn.Linear(100, 100),\n",
    "            self.activation_func,\n",
    "            nn.Linear(100, 100),\n",
    "            self.activation_func,\n",
    "            nn.Linear(100, output_size),\n",
    "        )\n",
    "\n",
    "        \n",
    "        #######################################################################\n",
    "        \n",
    "    def forward(self,x):\n",
    "        x = flatten(x)  # flatten layer: 위에서 정의한 flatten 함수를 먼저 작성해야 한다.\n",
    "        x = self.seq(x) # 입력값이 하나인 것을 생각하고 network를 짜야한다.\n",
    "        return x\n",
    "        "
   ]
  },
  {
   "cell_type": "markdown",
   "metadata": {
    "id": "rbUUugzz7Hya"
   },
   "source": [
    "##### [문제 03] Convolutional Neural Network\n",
    "\n",
    "INPUT(32X32X3) --> CONV1(30X30X12) --> CONV2(28X28X12) --> POOL1(14X14X12) --> CONV3(12X12X24) --> CONV4(10X10X24) --> POOL2(5X5X24) --> FC --> ... -->FC(class num)를 따르는 CNN model을 만드시오.\n",
    "FC층은 2개에서 4개 사이의 층을 가지도록 구성한다.단 Test dataset에 대해 50% 이상의 Test accuracy를 가져야 한다. (30점)\n",
    "(activation function은 self.activation_func을 사용할 것.)\n"
   ]
  },
  {
   "cell_type": "code",
   "execution_count": null,
   "metadata": {
    "id": "XHYS7eJJ7Hya"
   },
   "outputs": [],
   "source": [
    "class CNNModel(nn.Module):\n",
    "    def __init__(self,input_channel,active_func):\n",
    "        super(CNNModel, self).__init__()\n",
    "        \n",
    "        self.activation_func=active_func\n",
    "        ######################## Write your Code Here #########################\n",
    "        self.conv1 = nn.Conv2d(input_channel, 12, kernel_size=3)\n",
    "        self.conv2 = nn.Conv2d(12, 12, kernel_size=3)\n",
    "        self.conv3 = nn.Conv2d(12, 24, kernel_size=3)\n",
    "        self.conv4 = nn.Conv2d(24, 24, kernel_size=3)\n",
    "        self.pool = nn.MaxPool2d(2, 2)\n",
    "        self.fc1 = nn.Linear(5*5*24, 300)\n",
    "        self.fc2 = nn.Linear(300, 300)\n",
    "        self.fc3 = nn.Linear(300, 100)\n",
    "        self.fc4 = nn.Linear(100, 10)\n",
    "        #######################################################################\n",
    "\n",
    "    def forward(self, output):\n",
    "        ######################## Write your Code Here #########################\n",
    "        output = self.activation_func(self.conv2(self.conv1(output)))\n",
    "        output = self.pool(output)\n",
    "        output = self.activation_func(self.conv4(self.conv3(output)))\n",
    "        output = self.pool(output)\n",
    "        output = output.view(output.size(0), -1)\n",
    "        output = self.activation_func(self.fc1(output))\n",
    "        output = self.activation_func(self.fc2(output))\n",
    "        output = self.activation_func(self.fc3(output))\n",
    "        output = self.fc4(output)\n",
    "        return output        \n",
    "        #######################################################################\n",
    "\n",
    "\n"
   ]
  },
  {
   "cell_type": "code",
   "execution_count": null,
   "metadata": {
    "id": "il6dLnCzLos3"
   },
   "outputs": [],
   "source": [
    "## train func\n",
    "def train(model, epoches, train_loader, val_loader, optimizer, criteria):\n",
    "    best_score = 0\n",
    "    best_model = None\n",
    "    batch_len = len(train_loader)\n",
    "    val_acc = []\n",
    "    for epoch in range(epoches):\n",
    "        total_loss = 0;train_acc=0.0;correct = 0\n",
    "        for i,data in enumerate(train_loader):\n",
    "            image,label=data\n",
    "            image = torch.tensor(image, device = device)\n",
    "            label = torch.tensor(label, device = device)\n",
    "            model.train() \n",
    "            optimizer.zero_grad() \n",
    "            output=model(image.float())\n",
    "            prediction=output.max(1,keepdim=True)[1]\n",
    "            loss=criteria(output,label.long())\n",
    "            correct += prediction.eq(label.view_as(prediction)).sum().item()\n",
    "            loss.backward() \n",
    "            optimizer.step()\n",
    "            train_accuracy = 100. * correct / len(train_loader.dataset)\n",
    "            \n",
    "            # loss\n",
    "            total_loss+=loss.item()             \n",
    "        \n",
    "            if i % batch_len == batch_len-1:\n",
    "                print('{}th epoch loss:{:.6f} Train Acc:{}'.format(epoch+1,total_loss/batch_len,train_accuracy))\n",
    "\n",
    "                total_loss = 0\n",
    "\n",
    "                val_score = evaluate(model,val_loader)\n",
    "                val_acc.append(val_score)\n",
    "                if val_score>=best_score:\n",
    "                    best_score=val_score \n",
    "                    best_model=deepcopy(model)\n",
    "\n",
    "    return best_model, val_acc\n",
    "\n",
    "## evaluation func\n",
    "def evaluate(model, test_loader):\n",
    "    model.eval()\n",
    "\n",
    "    correct = 0\n",
    "    with torch.no_grad():\n",
    "        for data in test_loader:\n",
    "            image,label=data\n",
    "            image = image.to(device)\n",
    "            label = label.to(device)\n",
    "            output = model(image.float())\n",
    "            prediction = output.max(1, keepdim = True)[1]\n",
    "            correct += prediction.eq(label.view_as(prediction)).sum().item()\n",
    "    \n",
    "    test_accuracy = 100. * correct / len(test_loader.dataset)\n",
    "    \n",
    "    return test_accuracy\n"
   ]
  },
  {
   "cell_type": "code",
   "execution_count": null,
   "metadata": {
    "id": "4X_tSp3Iy3Jg"
   },
   "outputs": [],
   "source": [
    "def choice_activation(name):\n",
    "    if name==\"sigmod\":\n",
    "        function=nn.Sigmoid()\n",
    "    elif name==\"relu\":\n",
    "        function=nn.ReLU()\n",
    "    elif name==\"tanh\":\n",
    "        function=nn.Tanh()\n",
    "    elif name==\"leakyrelu\":\n",
    "        function=nn.LeakyReLU()\n",
    "    return function"
   ]
  },
  {
   "cell_type": "markdown",
   "metadata": {
    "id": "lJuwI_Cp7Hyc"
   },
   "source": [
    "#### [문제 04] Activation Function\n",
    "\n",
    "위에서 정의한 choice_activation()을 통해 4가지 중 하나의 activation function을 선택해 active_function 변수에 저장하고, \n",
    "해당 activation function을 선택한 이유를 보고서에 서술하시오. (5점)"
   ]
  },
  {
   "cell_type": "code",
   "execution_count": null,
   "metadata": {
    "colab": {
     "base_uri": "https://localhost:8080/",
     "height": 1000
    },
    "executionInfo": {
     "elapsed": 134126,
     "status": "ok",
     "timestamp": 1640190288152,
     "user": {
      "displayName": "박성우",
      "photoUrl": "https://lh3.googleusercontent.com/a/default-user=s64",
      "userId": "13078480530197322902"
     },
     "user_tz": -540
    },
    "id": "XK0Jfy9tUIP3",
    "outputId": "52807f8a-d4f9-41bb-8e21-a7a5dd78a2b9",
    "scrolled": true
   },
   "outputs": [
    {
     "name": "stdout",
     "output_type": "stream",
     "text": [
      "============== MLP Train Start ================\n"
     ]
    },
    {
     "name": "stderr",
     "output_type": "stream",
     "text": [
      "/usr/local/lib/python3.7/dist-packages/ipykernel_launcher.py:11: UserWarning: To copy construct from a tensor, it is recommended to use sourceTensor.clone().detach() or sourceTensor.clone().detach().requires_grad_(True), rather than torch.tensor(sourceTensor).\n",
      "  # This is added back by InteractiveShellApp.init_path()\n",
      "/usr/local/lib/python3.7/dist-packages/ipykernel_launcher.py:12: UserWarning: To copy construct from a tensor, it is recommended to use sourceTensor.clone().detach() or sourceTensor.clone().detach().requires_grad_(True), rather than torch.tensor(sourceTensor).\n",
      "  if sys.path[0] == '':\n"
     ]
    },
    {
     "name": "stdout",
     "output_type": "stream",
     "text": [
      "1th epoch loss:2.050484 Train Acc:22.78125\n",
      "2th epoch loss:1.881066 Train Acc:30.38125\n",
      "3th epoch loss:1.797508 Train Acc:34.78125\n",
      "4th epoch loss:1.745424 Train Acc:37.1875\n",
      "5th epoch loss:1.693657 Train Acc:38.89375\n",
      "6th epoch loss:1.650749 Train Acc:40.65625\n",
      "7th epoch loss:1.611779 Train Acc:42.0375\n",
      "8th epoch loss:1.574861 Train Acc:43.3875\n",
      "9th epoch loss:1.537478 Train Acc:44.61875\n",
      "10th epoch loss:1.506674 Train Acc:45.76875\n",
      "11th epoch loss:1.478687 Train Acc:46.5125\n",
      "12th epoch loss:1.455352 Train Acc:47.4625\n",
      "13th epoch loss:1.417393 Train Acc:48.5875\n",
      "14th epoch loss:1.386558 Train Acc:49.5375\n",
      "15th epoch loss:1.378685 Train Acc:49.7375\n",
      "16th epoch loss:1.347584 Train Acc:51.275\n",
      "17th epoch loss:1.322934 Train Acc:52.06875\n",
      "18th epoch loss:1.294782 Train Acc:52.56875\n",
      "19th epoch loss:1.293276 Train Acc:52.375\n",
      "20th epoch loss:1.261743 Train Acc:53.025\n",
      "----------- MLP Test Result ----------------\n",
      "MLP Test Accuracy: 42.2\n",
      "============== CNN Train Start ================\n",
      "1th epoch loss:1.872004 Train Acc:29.6625\n",
      "2th epoch loss:1.533399 Train Acc:43.3\n",
      "3th epoch loss:1.367196 Train Acc:50.0625\n",
      "4th epoch loss:1.220730 Train Acc:55.8875\n",
      "5th epoch loss:1.090781 Train Acc:60.71875\n",
      "6th epoch loss:0.972240 Train Acc:65.4125\n",
      "7th epoch loss:0.879927 Train Acc:69.05\n",
      "8th epoch loss:0.823593 Train Acc:70.6\n",
      "9th epoch loss:0.713634 Train Acc:74.4875\n",
      "10th epoch loss:0.607180 Train Acc:78.375\n",
      "11th epoch loss:0.539960 Train Acc:80.6625\n",
      "12th epoch loss:0.467059 Train Acc:83.025\n",
      "13th epoch loss:0.394410 Train Acc:86.03125\n",
      "14th epoch loss:0.344119 Train Acc:88.04375\n",
      "15th epoch loss:0.282937 Train Acc:89.925\n",
      "16th epoch loss:0.254221 Train Acc:91.09375\n",
      "17th epoch loss:0.228126 Train Acc:92.34375\n",
      "18th epoch loss:0.191312 Train Acc:93.43125\n",
      "19th epoch loss:0.179911 Train Acc:93.95625\n",
      "20th epoch loss:0.147720 Train Acc:94.7625\n",
      "----------- CNN Test Result ----------------\n",
      "CNN Test Accuracy: 56.55\n"
     ]
    },
    {
     "data": {
      "image/png": "[encoded data removed]",
      "text/plain": [
       "<Figure size 720x432 with 1 Axes>"
      ]
     },
     "metadata": {
      "needs_background": "light"
     },
     "output_type": "display_data"
    }
   ],
   "source": [
    "# hyperparameter\n",
    "EPOCHS=20\n",
    "LEARNING_RATE=1e-3\n",
    "\n",
    "## 배치 사이즈는 사양에 맞게  변경이 가능하다.\n",
    "###################################\n",
    "BATCH_SIZE=50\n",
    "####################################\n",
    "\n",
    "train_loader = DataLoader(Custom_Dataset(X_train,Y_train), batch_size = BATCH_SIZE)\n",
    "val_loader = DataLoader(Custom_Dataset(X_valid,Y_valid), batch_size = BATCH_SIZE)\n",
    "test_loader = DataLoader(Custom_Dataset(X_test,Y_test), batch_size = BATCH_SIZE)\n",
    "\n",
    "\n",
    "\n",
    "########## Write Your Code Here #########\n",
    "active_function=choice_activation('leakyrelu')\n",
    "#########################################\n",
    "criterion=nn.CrossEntropyLoss()\n",
    "\n",
    "\n",
    "input_channel=X_train.shape[3]\n",
    "input_size=X_train.shape[1]*X_train.shape[2]*X_train.shape[3]\n",
    "output_size=len(np.unique(Y_train))\n",
    "\n",
    "\n",
    "mlp_model=MLP(input_size,active_function,output_size)\n",
    "mlp_model.to(device)\n",
    "mlp_optimizer=torch.optim.Adam(mlp_model.parameters(),lr=LEARNING_RATE)\n",
    "criterion=nn.CrossEntropyLoss() \n",
    "\n",
    "cnn_model=CNNModel(input_channel,active_function)\n",
    "cnn_model.to(device)\n",
    "\n",
    "cnn_optimizer=torch.optim.Adam(cnn_model.parameters(),lr=LEARNING_RATE)\n",
    "\n",
    "\n",
    "# train mlp and test mlp\n",
    "\n",
    "print(\"============== MLP Train Start ================\")\n",
    "best_mlp,mlp_val_acc=train(mlp_model,EPOCHS,train_loader, val_loader,mlp_optimizer,criterion)\n",
    "mlp_acc=evaluate(best_mlp,test_loader)\n",
    "print('----------- MLP Test Result ----------------')\n",
    "print('MLP Test Accuracy:',mlp_acc)\n",
    "\n",
    "\n",
    "# train cnn and test cnn\n",
    "print(\"============== CNN Train Start ================\")\n",
    "best_cnn,cnn_val_acc=train(cnn_model,EPOCHS,train_loader, val_loader,cnn_optimizer,criterion)\n",
    "cnn_acc=evaluate(best_cnn,test_loader)\n",
    "print('----------- CNN Test Result ----------------')\n",
    "print('CNN Test Accuracy:',cnn_acc)\n",
    "\n",
    "\n",
    "### Graph Shows ####\n",
    "\n",
    "plt.rcParams[\"figure.figsize\"]=(10,6)\n",
    "plt.title('[ Validation Accuarcy ]')\n",
    "\n",
    "plt.plot(np.arange(1,len(mlp_val_acc)+1),mlp_val_acc,label='validation',color='darkblue')\n",
    "plt.plot(np.arange(1,len(cnn_val_acc)+1),cnn_val_acc,label='validation',color='darkred')\n",
    "plt.xlim([0,20])\n",
    "plt.legend(['MLP','CNN'])\n",
    "plt.xlabel('Epoch')\n",
    "plt.ylabel('Accuracy (%)')\n",
    "plt.grid(True)\n",
    "plt.show()\n"
   ]
  },
  {
   "cell_type": "code",
   "execution_count": null,
   "metadata": {
    "id": "xW2xX6azrvrh"
   },
   "outputs": [],
   "source": []
  }
 ],
 "metadata": {
  "accelerator": "GPU",
  "colab": {
   "collapsed_sections": [],
   "name": "AI_Assignment04.ipynb",
   "provenance": []
  },
  "kernelspec": {
   "display_name": "Python 3",
   "language": "python",
   "name": "python3"
  },
  "language_info": {
   "codemirror_mode": {
    "name": "ipython",
    "version": 3
   },
   "file_extension": ".py",
   "mimetype": "text/x-python",
   "name": "python",
   "nbconvert_exporter": "python",
   "pygments_lexer": "ipython3",
   "version": "3.8.5"
  },
  "widgets": {
   "application/vnd.jupyter.widget-state+json": {
    "0618384306cf4529a0f77bca33f2d4c6": {
     "model_module": "@jupyter-widgets/controls",
     "model_module_version": "1.5.0",
     "model_name": "FloatProgressModel",
     "state": {
      "_dom_classes": [],
      "_model_module": "@jupyter-widgets/controls",
      "_model_module_version": "1.5.0",
      "_model_name": "FloatProgressModel",
      "_view_count": null,
      "_view_module": "@jupyter-widgets/controls",
      "_view_module_version": "1.5.0",
      "_view_name": "ProgressView",
      "bar_style": "success",
      "description": "",
      "description_tooltip": null,
      "layout": "IPY_MODEL_fd9dfe9a6ab24c95819b6984f184612b",
      "max": 170498071,
      "min": 0,
      "orientation": "horizontal",
      "style": "IPY_MODEL_9c640e5c724e49f9b0df10258d252eb9",
      "value": 170498071
     }
    },
    "125ec67b432d473abd167dc0a68a8cdd": {
     "model_module": "@jupyter-widgets/controls",
     "model_module_version": "1.5.0",
     "model_name": "HBoxModel",
     "state": {
      "_dom_classes": [],
      "_model_module": "@jupyter-widgets/controls",
      "_model_module_version": "1.5.0",
      "_model_name": "HBoxModel",
      "_view_count": null,
      "_view_module": "@jupyter-widgets/controls",
      "_view_module_version": "1.5.0",
      "_view_name": "HBoxView",
      "box_style": "",
      "children": [
       "IPY_MODEL_4e9aa570abf24cf8a21da8e13a37f12b",
       "IPY_MODEL_0618384306cf4529a0f77bca33f2d4c6",
       "IPY_MODEL_1a017568763a44fdb8e4b5fba5002c8e"
      ],
      "layout": "IPY_MODEL_986d81550e0d4eab8798dbaed03199f6"
     }
    },
    "16d36ed089444ec998a4f569d0f9b306": {
     "model_module": "@jupyter-widgets/base",
     "model_module_version": "1.2.0",
     "model_name": "LayoutModel",
     "state": {
      "_model_module": "@jupyter-widgets/base",
      "_model_module_version": "1.2.0",
      "_model_name": "LayoutModel",
      "_view_count": null,
      "_view_module": "@jupyter-widgets/base",
      "_view_module_version": "1.2.0",
      "_view_name": "LayoutView",
      "align_content": null,
      "align_items": null,
      "align_self": null,
      "border": null,
      "bottom": null,
      "display": null,
      "flex": null,
      "flex_flow": null,
      "grid_area": null,
      "grid_auto_columns": null,
      "grid_auto_flow": null,
      "grid_auto_rows": null,
      "grid_column": null,
      "grid_gap": null,
      "grid_row": null,
      "grid_template_areas": null,
      "grid_template_columns": null,
      "grid_template_rows": null,
      "height": null,
      "justify_content": null,
      "justify_items": null,
      "left": null,
      "margin": null,
      "max_height": null,
      "max_width": null,
      "min_height": null,
      "min_width": null,
      "object_fit": null,
      "object_position": null,
      "order": null,
      "overflow": null,
      "overflow_x": null,
      "overflow_y": null,
      "padding": null,
      "right": null,
      "top": null,
      "visibility": null,
      "width": null
     }
    },
    "1a017568763a44fdb8e4b5fba5002c8e": {
     "model_module": "@jupyter-widgets/controls",
     "model_module_version": "1.5.0",
     "model_name": "HTMLModel",
     "state": {
      "_dom_classes": [],
      "_model_module": "@jupyter-widgets/controls",
      "_model_module_version": "1.5.0",
      "_model_name": "HTMLModel",
      "_view_count": null,
      "_view_module": "@jupyter-widgets/controls",
      "_view_module_version": "1.5.0",
      "_view_name": "HTMLView",
      "description": "",
      "description_tooltip": null,
      "layout": "IPY_MODEL_16d36ed089444ec998a4f569d0f9b306",
      "placeholder": "​",
      "style": "IPY_MODEL_246bbd1bcd0942d2bfe5794ed41d3b0e",
      "value": " 170499072/? [00:02&lt;00:00, 62645700.44it/s]"
     }
    },
    "246bbd1bcd0942d2bfe5794ed41d3b0e": {
     "model_module": "@jupyter-widgets/controls",
     "model_module_version": "1.5.0",
     "model_name": "DescriptionStyleModel",
     "state": {
      "_model_module": "@jupyter-widgets/controls",
      "_model_module_version": "1.5.0",
      "_model_name": "DescriptionStyleModel",
      "_view_count": null,
      "_view_module": "@jupyter-widgets/base",
      "_view_module_version": "1.2.0",
      "_view_name": "StyleView",
      "description_width": ""
     }
    },
    "32d48535776048e4ab95e2ea3c06f9cf": {
     "model_module": "@jupyter-widgets/controls",
     "model_module_version": "1.5.0",
     "model_name": "DescriptionStyleModel",
     "state": {
      "_model_module": "@jupyter-widgets/controls",
      "_model_module_version": "1.5.0",
      "_model_name": "DescriptionStyleModel",
      "_view_count": null,
      "_view_module": "@jupyter-widgets/base",
      "_view_module_version": "1.2.0",
      "_view_name": "StyleView",
      "description_width": ""
     }
    },
    "4e9aa570abf24cf8a21da8e13a37f12b": {
     "model_module": "@jupyter-widgets/controls",
     "model_module_version": "1.5.0",
     "model_name": "HTMLModel",
     "state": {
      "_dom_classes": [],
      "_model_module": "@jupyter-widgets/controls",
      "_model_module_version": "1.5.0",
      "_model_name": "HTMLModel",
      "_view_count": null,
      "_view_module": "@jupyter-widgets/controls",
      "_view_module_version": "1.5.0",
      "_view_name": "HTMLView",
      "description": "",
      "description_tooltip": null,
      "layout": "IPY_MODEL_f0687f4eb72e4235b338ea272ec09706",
      "placeholder": "​",
      "style": "IPY_MODEL_32d48535776048e4ab95e2ea3c06f9cf",
      "value": ""
     }
    },
    "986d81550e0d4eab8798dbaed03199f6": {
     "model_module": "@jupyter-widgets/base",
     "model_module_version": "1.2.0",
     "model_name": "LayoutModel",
     "state": {
      "_model_module": "@jupyter-widgets/base",
      "_model_module_version": "1.2.0",
      "_model_name": "LayoutModel",
      "_view_count": null,
      "_view_module": "@jupyter-widgets/base",
      "_view_module_version": "1.2.0",
      "_view_name": "LayoutView",
      "align_content": null,
      "align_items": null,
      "align_self": null,
      "border": null,
      "bottom": null,
      "display": null,
      "flex": null,
      "flex_flow": null,
      "grid_area": null,
      "grid_auto_columns": null,
      "grid_auto_flow": null,
      "grid_auto_rows": null,
      "grid_column": null,
      "grid_gap": null,
      "grid_row": null,
      "grid_template_areas": null,
      "grid_template_columns": null,
      "grid_template_rows": null,
      "height": null,
      "justify_content": null,
      "justify_items": null,
      "left": null,
      "margin": null,
      "max_height": null,
      "max_width": null,
      "min_height": null,
      "min_width": null,
      "object_fit": null,
      "object_position": null,
      "order": null,
      "overflow": null,
      "overflow_x": null,
      "overflow_y": null,
      "padding": null,
      "right": null,
      "top": null,
      "visibility": null,
      "width": null
     }
    },
    "9c640e5c724e49f9b0df10258d252eb9": {
     "model_module": "@jupyter-widgets/controls",
     "model_module_version": "1.5.0",
     "model_name": "ProgressStyleModel",
     "state": {
      "_model_module": "@jupyter-widgets/controls",
      "_model_module_version": "1.5.0",
      "_model_name": "ProgressStyleModel",
      "_view_count": null,
      "_view_module": "@jupyter-widgets/base",
      "_view_module_version": "1.2.0",
      "_view_name": "StyleView",
      "bar_color": null,
      "description_width": ""
     }
    },
    "f0687f4eb72e4235b338ea272ec09706": {
     "model_module": "@jupyter-widgets/base",
     "model_module_version": "1.2.0",
     "model_name": "LayoutModel",
     "state": {
      "_model_module": "@jupyter-widgets/base",
      "_model_module_version": "1.2.0",
      "_model_name": "LayoutModel",
      "_view_count": null,
      "_view_module": "@jupyter-widgets/base",
      "_view_module_version": "1.2.0",
      "_view_name": "LayoutView",
      "align_content": null,
      "align_items": null,
      "align_self": null,
      "border": null,
      "bottom": null,
      "display": null,
      "flex": null,
      "flex_flow": null,
      "grid_area": null,
      "grid_auto_columns": null,
      "grid_auto_flow": null,
      "grid_auto_rows": null,
      "grid_column": null,
      "grid_gap": null,
      "grid_row": null,
      "grid_template_areas": null,
      "grid_template_columns": null,
      "grid_template_rows": null,
      "height": null,
      "justify_content": null,
      "justify_items": null,
      "left": null,
      "margin": null,
      "max_height": null,
      "max_width": null,
      "min_height": null,
      "min_width": null,
      "object_fit": null,
      "object_position": null,
      "order": null,
      "overflow": null,
      "overflow_x": null,
      "overflow_y": null,
      "padding": null,
      "right": null,
      "top": null,
      "visibility": null,
      "width": null
     }
    },
    "fd9dfe9a6ab24c95819b6984f184612b": {
     "model_module": "@jupyter-widgets/base",
     "model_module_version": "1.2.0",
     "model_name": "LayoutModel",
     "state": {
      "_model_module": "@jupyter-widgets/base",
      "_model_module_version": "1.2.0",
      "_model_name": "LayoutModel",
      "_view_count": null,
      "_view_module": "@jupyter-widgets/base",
      "_view_module_version": "1.2.0",
      "_view_name": "LayoutView",
      "align_content": null,
      "align_items": null,
      "align_self": null,
      "border": null,
      "bottom": null,
      "display": null,
      "flex": null,
      "flex_flow": null,
      "grid_area": null,
      "grid_auto_columns": null,
      "grid_auto_flow": null,
      "grid_auto_rows": null,
      "grid_column": null,
      "grid_gap": null,
      "grid_row": null,
      "grid_template_areas": null,
      "grid_template_columns": null,
      "grid_template_rows": null,
      "height": null,
      "justify_content": null,
      "justify_items": null,
      "left": null,
      "margin": null,
      "max_height": null,
      "max_width": null,
      "min_height": null,
      "min_width": null,
      "object_fit": null,
      "object_position": null,
      "order": null,
      "overflow": null,
      "overflow_x": null,
      "overflow_y": null,
      "padding": null,
      "right": null,
      "top": null,
      "visibility": null,
      "width": null
     }
    }
   }
  }
 },
 "nbformat": 4,
 "nbformat_minor": 1
}
